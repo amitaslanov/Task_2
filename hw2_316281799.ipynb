{
 "cells": [
  {
   "cell_type": "code",
   "execution_count": 32,
   "id": "28cc764d-892d-43fd-a00b-a221cf9b7a24",
   "metadata": {},
   "outputs": [
    {
     "name": "stderr",
     "output_type": "stream",
     "text": [
      "C:\\Users\\amits\\AppData\\Local\\Temp\\ipykernel_22896\\2937067262.py:4: DtypeWarning: Columns (6) have mixed types. Specify dtype option on import or set low_memory=False.\n",
      "  data = pd.read_csv('matala2_cosmetics_2019-Nov.csv')\n"
     ]
    }
   ],
   "source": [
    "import pandas as pd\n",
    "import numpy as np\n",
    "\n",
    "data = pd.read_csv('matala2_cosmetics_2019-Nov.csv')\n",
    "df = pd.DataFrame(data)"
   ]
  },
  {
   "cell_type": "code",
   "execution_count": 33,
   "id": "b23de1e0-10d4-4b6e-a2ea-9e1a10413856",
   "metadata": {},
   "outputs": [],
   "source": [
    "#1 - duration to next event\n",
    "\n",
    "# convert time column to datetime format\n",
    "df['event_time'] = pd.to_datetime(df['event_time'])\n",
    "\n",
    "# group by session and get the next time\n",
    "df['next_time'] = df.groupby('user_session')['event_time'].shift(-1)  \n",
    "\n",
    " # calculate the duration in seconds and fill missing values with 0\n",
    "df['duration_to_next_event'] = (df['next_time'] - df['event_time']).dt.total_seconds().fillna(0) \n",
    "\n",
    "# remove the temporary column\n",
    "df = df.drop('next_time', axis=1)"
   ]
  },
  {
   "cell_type": "code",
   "execution_count": 34,
   "id": "dfa9b4e9-8295-4328-81b6-64e4ad56b987",
   "metadata": {},
   "outputs": [],
   "source": [
    "#2 - funnel number\n",
    "\n",
    "import datetime\n",
    "\n",
    "# sort the data by event_time\n",
    "df = df.sort_values('event_time')\n",
    "\n",
    "# initialize a dictionary to keep track of the last visit time for each user\n",
    "last_visit = {}\n",
    "\n",
    "# initialize a dictionary to keep track of the funnel number for each user\n",
    "funnel_num = {}\n",
    "\n",
    "# loop over each row in the data\n",
    "for index, row in df.iterrows():\n",
    "    # if this is a new user, set the last visit time and funnel number to None\n",
    "    if row['user_id'] not in last_visit:\n",
    "        last_visit[row['user_id']] = None\n",
    "        funnel_num[row['user_id']] = 1\n",
    "    \n",
    "    # if the current session is less than 5 days from the last session, use the same funnel number\n",
    "    elif last_visit[row['user_id']] is not None and row['event_time'] - last_visit[row['user_id']] <= datetime.timedelta(days=5):\n",
    "        pass\n",
    "    \n",
    "    # otherwise, increment the funnel number\n",
    "    else:\n",
    "        funnel_num[row['user_id']] += 1\n",
    "    \n",
    "    # update the last visit time for this user\n",
    "    last_visit[row['user_id']] = row['event_time']\n",
    "    \n",
    "    # set the funnel number for this row\n",
    "    df.at[index, 'funnel_number'] = funnel_num[row['user_id']]\n",
    "\n",
    "# sort the data by user_id and event_time\n",
    "df = df.sort_values(['user_id', 'event_time'])\n"
   ]
  },
  {
   "cell_type": "code",
   "execution_count": 35,
   "id": "8a0875bd-362f-4416-b9df-1b4f89c2a329",
   "metadata": {},
   "outputs": [],
   "source": [
    "# 3 - index funnel number\n",
    "\n",
    "df[\"index_in_funnel\"] = df.groupby([\"funnel_number\", \"user_session\"]).cumcount() + 1"
   ]
  },
  {
   "cell_type": "code",
   "execution_count": 36,
   "id": "a7970adf-e4dd-44f0-b653-6c4c43dd90ab",
   "metadata": {},
   "outputs": [],
   "source": [
    "# 4 - fix prices\n",
    "\n",
    "import re\n",
    "\n",
    "df['price'] = df['price'].fillna('').astype(str)\n",
    "\n",
    "# define a regular expression pattern to extract the price\n",
    "pattern = r'\\d+\\.\\d+'\n",
    "\n",
    "# define a function to extract the price and convert it to float\n",
    "def extract_price(text):\n",
    "    match = re.search(pattern, text)\n",
    "    if match:\n",
    "        return float(match.group(0))\n",
    "    else:\n",
    "        return None\n",
    "\n",
    "# apply the function to the 'price' column\n",
    "df['price'] = df['price'].apply(extract_price)"
   ]
  },
  {
   "cell_type": "code",
   "execution_count": 38,
   "id": "41f33178-0450-45c2-a609-e8a7e306270b",
   "metadata": {},
   "outputs": [
    {
     "data": {
      "image/png": "[encoded data removed]",
      "text/plain": [
       "<Figure size 432x288 with 1 Axes>"
      ]
     },
     "metadata": {
      "needs_background": "light"
     },
     "output_type": "display_data"
    }
   ],
   "source": [
    "# 5 - event types plot\n",
    "\n",
    "import matplotlib.pyplot as plt\n",
    "\n",
    "# Get the unique event types in the data\n",
    "event_types = data['event_type'].unique()\n",
    "\n",
    "# Count the number of events for each event type\n",
    "event_counts = data['event_type'].value_counts()\n",
    "\n",
    "# Create a bar chart of the event counts\n",
    "plt.bar(event_types, event_counts)\n",
    "plt.title('Number of Events by Type')\n",
    "plt.xlabel('Event Type')\n",
    "plt.ylabel('Count')\n",
    "plt.show()\n"
   ]
  },
  {
   "cell_type": "code",
   "execution_count": 39,
   "id": "6aa0f3fc-bd88-4189-af19-d7cb83e71b87",
   "metadata": {},
   "outputs": [],
   "source": [
    "# 6 - session data\n",
    "\n",
    "# create a list to store the session data\n",
    "session_data_list = []\n",
    "\n",
    "# group the data by user_id and user_session\n",
    "grouped = df.groupby(['user_id', 'user_session'])\n",
    "\n",
    "for name, group in grouped:\n",
    "    # get the required fields\n",
    "    user_id = name[0]\n",
    "    user_session = name[1]\n",
    "    funnel_number = group['funnel_number'].iloc[0]\n",
    "    index_in_funnel = group['index_in_funnel'].iloc[0]\n",
    "    total_events = len(group)\n",
    "    duration = (group['event_time'].max() - group['event_time'].min()).total_seconds()\n",
    "    viewed_products = group.loc[group['event_type'] == 'view', 'product_id'].tolist()\n",
    "    added_to_cart = group.loc[group['event_type'] == 'cart', 'product_id'].tolist()\n",
    "    purchased = group.loc[group['event_type'] == 'purchase', 'product_id'].tolist()\n",
    "    \n",
    "    # create a new row for the session_data dataframe\n",
    "    session_data_list.append([user_id, user_session, funnel_number, index_in_funnel, total_events, duration, viewed_products, added_to_cart, purchased])\n",
    "\n",
    "# create the session_data dataframe\n",
    "session_data = pd.DataFrame(session_data_list, columns=['user_id', 'user_session', 'funnel_number', 'index_in_funnel', 'total_events', 'duration', 'list_of_viewed', 'list_of_added_to_cart', 'list_of_purchased'])"
   ]
  },
  {
   "cell_type": "code",
   "execution_count": null,
   "id": "d4351147-c908-4587-9293-d36737969b30",
   "metadata": {},
   "outputs": [],
   "source": []
  }
 ],
 "metadata": {
  "kernelspec": {
   "display_name": "Python 3 (ipykernel)",
   "language": "python",
   "name": "python3"
  },
  "language_info": {
   "codemirror_mode": {
    "name": "ipython",
    "version": 3
   },
   "file_extension": ".py",
   "mimetype": "text/x-python",
   "name": "python",
   "nbconvert_exporter": "python",
   "pygments_lexer": "ipython3",
   "version": "3.9.12"
  }
 },
 "nbformat": 4,
 "nbformat_minor": 5
}
